{
  "nbformat": 4,
  "nbformat_minor": 0,
  "metadata": {
    "kernelspec": {
      "display_name": "Python 3",
      "language": "python",
      "name": "python3"
    },
    "language_info": {
      "codemirror_mode": {
        "name": "ipython",
        "version": 3
      },
      "file_extension": ".py",
      "mimetype": "text/x-python",
      "name": "python",
      "nbconvert_exporter": "python",
      "pygments_lexer": "ipython3",
      "version": "3.6.5"
    },
    "colab": {
      "name": "book_recommedation.ipynb",
      "provenance": [],
      "include_colab_link": true
    }
  },
  "cells": [
    {
      "cell_type": "markdown",
      "metadata": {
        "id": "view-in-github",
        "colab_type": "text"
      },
      "source": [
        "<a href=\"https://colab.research.google.com/github/gautamgupta12/HDP/blob/master/book_recommedation.ipynb\" target=\"_parent\"><img src=\"https://colab.research.google.com/assets/colab-badge.svg\" alt=\"Open In Colab\"/></a>"
      ]
    },
    {
      "cell_type": "code",
      "metadata": {
        "id": "15kLKO1OoavG"
      },
      "source": [
        "import pandas as pd\n",
        "import numpy as np"
      ],
      "execution_count": null,
      "outputs": []
    },
    {
      "cell_type": "code",
      "metadata": {
        "id": "8QtQK5MAoavS",
        "colab": {
          "base_uri": "https://localhost:8080/",
          "height": 374
        },
        "outputId": "f28de394-5298-4b7b-ccc8-173c7df296a4"
      },
      "source": [
        "data = pd.read_csv('books.csv')"
      ],
      "execution_count": null,
      "outputs": [
        {
          "output_type": "error",
          "ename": "FileNotFoundError",
          "evalue": "ignored",
          "traceback": [
            "\u001b[0;31m---------------------------------------------------------------------------\u001b[0m",
            "\u001b[0;31mFileNotFoundError\u001b[0m                         Traceback (most recent call last)",
            "\u001b[0;32m<ipython-input-3-d5fa086b5b96>\u001b[0m in \u001b[0;36m<module>\u001b[0;34m()\u001b[0m\n\u001b[0;32m----> 1\u001b[0;31m \u001b[0mdata\u001b[0m \u001b[0;34m=\u001b[0m \u001b[0mpd\u001b[0m\u001b[0;34m.\u001b[0m\u001b[0mread_csv\u001b[0m\u001b[0;34m(\u001b[0m\u001b[0;34m'books.csv'\u001b[0m\u001b[0;34m)\u001b[0m\u001b[0;34m\u001b[0m\u001b[0;34m\u001b[0m\u001b[0m\n\u001b[0m",
            "\u001b[0;32m/usr/local/lib/python3.6/dist-packages/pandas/io/parsers.py\u001b[0m in \u001b[0;36mparser_f\u001b[0;34m(filepath_or_buffer, sep, delimiter, header, names, index_col, usecols, squeeze, prefix, mangle_dupe_cols, dtype, engine, converters, true_values, false_values, skipinitialspace, skiprows, skipfooter, nrows, na_values, keep_default_na, na_filter, verbose, skip_blank_lines, parse_dates, infer_datetime_format, keep_date_col, date_parser, dayfirst, cache_dates, iterator, chunksize, compression, thousands, decimal, lineterminator, quotechar, quoting, doublequote, escapechar, comment, encoding, dialect, error_bad_lines, warn_bad_lines, delim_whitespace, low_memory, memory_map, float_precision)\u001b[0m\n\u001b[1;32m    674\u001b[0m         )\n\u001b[1;32m    675\u001b[0m \u001b[0;34m\u001b[0m\u001b[0m\n\u001b[0;32m--> 676\u001b[0;31m         \u001b[0;32mreturn\u001b[0m \u001b[0m_read\u001b[0m\u001b[0;34m(\u001b[0m\u001b[0mfilepath_or_buffer\u001b[0m\u001b[0;34m,\u001b[0m \u001b[0mkwds\u001b[0m\u001b[0;34m)\u001b[0m\u001b[0;34m\u001b[0m\u001b[0;34m\u001b[0m\u001b[0m\n\u001b[0m\u001b[1;32m    677\u001b[0m \u001b[0;34m\u001b[0m\u001b[0m\n\u001b[1;32m    678\u001b[0m     \u001b[0mparser_f\u001b[0m\u001b[0;34m.\u001b[0m\u001b[0m__name__\u001b[0m \u001b[0;34m=\u001b[0m \u001b[0mname\u001b[0m\u001b[0;34m\u001b[0m\u001b[0;34m\u001b[0m\u001b[0m\n",
            "\u001b[0;32m/usr/local/lib/python3.6/dist-packages/pandas/io/parsers.py\u001b[0m in \u001b[0;36m_read\u001b[0;34m(filepath_or_buffer, kwds)\u001b[0m\n\u001b[1;32m    446\u001b[0m \u001b[0;34m\u001b[0m\u001b[0m\n\u001b[1;32m    447\u001b[0m     \u001b[0;31m# Create the parser.\u001b[0m\u001b[0;34m\u001b[0m\u001b[0;34m\u001b[0m\u001b[0;34m\u001b[0m\u001b[0m\n\u001b[0;32m--> 448\u001b[0;31m     \u001b[0mparser\u001b[0m \u001b[0;34m=\u001b[0m \u001b[0mTextFileReader\u001b[0m\u001b[0;34m(\u001b[0m\u001b[0mfp_or_buf\u001b[0m\u001b[0;34m,\u001b[0m \u001b[0;34m**\u001b[0m\u001b[0mkwds\u001b[0m\u001b[0;34m)\u001b[0m\u001b[0;34m\u001b[0m\u001b[0;34m\u001b[0m\u001b[0m\n\u001b[0m\u001b[1;32m    449\u001b[0m \u001b[0;34m\u001b[0m\u001b[0m\n\u001b[1;32m    450\u001b[0m     \u001b[0;32mif\u001b[0m \u001b[0mchunksize\u001b[0m \u001b[0;32mor\u001b[0m \u001b[0miterator\u001b[0m\u001b[0;34m:\u001b[0m\u001b[0;34m\u001b[0m\u001b[0;34m\u001b[0m\u001b[0m\n",
            "\u001b[0;32m/usr/local/lib/python3.6/dist-packages/pandas/io/parsers.py\u001b[0m in \u001b[0;36m__init__\u001b[0;34m(self, f, engine, **kwds)\u001b[0m\n\u001b[1;32m    878\u001b[0m             \u001b[0mself\u001b[0m\u001b[0;34m.\u001b[0m\u001b[0moptions\u001b[0m\u001b[0;34m[\u001b[0m\u001b[0;34m\"has_index_names\"\u001b[0m\u001b[0;34m]\u001b[0m \u001b[0;34m=\u001b[0m \u001b[0mkwds\u001b[0m\u001b[0;34m[\u001b[0m\u001b[0;34m\"has_index_names\"\u001b[0m\u001b[0;34m]\u001b[0m\u001b[0;34m\u001b[0m\u001b[0;34m\u001b[0m\u001b[0m\n\u001b[1;32m    879\u001b[0m \u001b[0;34m\u001b[0m\u001b[0m\n\u001b[0;32m--> 880\u001b[0;31m         \u001b[0mself\u001b[0m\u001b[0;34m.\u001b[0m\u001b[0m_make_engine\u001b[0m\u001b[0;34m(\u001b[0m\u001b[0mself\u001b[0m\u001b[0;34m.\u001b[0m\u001b[0mengine\u001b[0m\u001b[0;34m)\u001b[0m\u001b[0;34m\u001b[0m\u001b[0;34m\u001b[0m\u001b[0m\n\u001b[0m\u001b[1;32m    881\u001b[0m \u001b[0;34m\u001b[0m\u001b[0m\n\u001b[1;32m    882\u001b[0m     \u001b[0;32mdef\u001b[0m \u001b[0mclose\u001b[0m\u001b[0;34m(\u001b[0m\u001b[0mself\u001b[0m\u001b[0;34m)\u001b[0m\u001b[0;34m:\u001b[0m\u001b[0;34m\u001b[0m\u001b[0;34m\u001b[0m\u001b[0m\n",
            "\u001b[0;32m/usr/local/lib/python3.6/dist-packages/pandas/io/parsers.py\u001b[0m in \u001b[0;36m_make_engine\u001b[0;34m(self, engine)\u001b[0m\n\u001b[1;32m   1112\u001b[0m     \u001b[0;32mdef\u001b[0m \u001b[0m_make_engine\u001b[0m\u001b[0;34m(\u001b[0m\u001b[0mself\u001b[0m\u001b[0;34m,\u001b[0m \u001b[0mengine\u001b[0m\u001b[0;34m=\u001b[0m\u001b[0;34m\"c\"\u001b[0m\u001b[0;34m)\u001b[0m\u001b[0;34m:\u001b[0m\u001b[0;34m\u001b[0m\u001b[0;34m\u001b[0m\u001b[0m\n\u001b[1;32m   1113\u001b[0m         \u001b[0;32mif\u001b[0m \u001b[0mengine\u001b[0m \u001b[0;34m==\u001b[0m \u001b[0;34m\"c\"\u001b[0m\u001b[0;34m:\u001b[0m\u001b[0;34m\u001b[0m\u001b[0;34m\u001b[0m\u001b[0m\n\u001b[0;32m-> 1114\u001b[0;31m             \u001b[0mself\u001b[0m\u001b[0;34m.\u001b[0m\u001b[0m_engine\u001b[0m \u001b[0;34m=\u001b[0m \u001b[0mCParserWrapper\u001b[0m\u001b[0;34m(\u001b[0m\u001b[0mself\u001b[0m\u001b[0;34m.\u001b[0m\u001b[0mf\u001b[0m\u001b[0;34m,\u001b[0m \u001b[0;34m**\u001b[0m\u001b[0mself\u001b[0m\u001b[0;34m.\u001b[0m\u001b[0moptions\u001b[0m\u001b[0;34m)\u001b[0m\u001b[0;34m\u001b[0m\u001b[0;34m\u001b[0m\u001b[0m\n\u001b[0m\u001b[1;32m   1115\u001b[0m         \u001b[0;32melse\u001b[0m\u001b[0;34m:\u001b[0m\u001b[0;34m\u001b[0m\u001b[0;34m\u001b[0m\u001b[0m\n\u001b[1;32m   1116\u001b[0m             \u001b[0;32mif\u001b[0m \u001b[0mengine\u001b[0m \u001b[0;34m==\u001b[0m \u001b[0;34m\"python\"\u001b[0m\u001b[0;34m:\u001b[0m\u001b[0;34m\u001b[0m\u001b[0;34m\u001b[0m\u001b[0m\n",
            "\u001b[0;32m/usr/local/lib/python3.6/dist-packages/pandas/io/parsers.py\u001b[0m in \u001b[0;36m__init__\u001b[0;34m(self, src, **kwds)\u001b[0m\n\u001b[1;32m   1889\u001b[0m         \u001b[0mkwds\u001b[0m\u001b[0;34m[\u001b[0m\u001b[0;34m\"usecols\"\u001b[0m\u001b[0;34m]\u001b[0m \u001b[0;34m=\u001b[0m \u001b[0mself\u001b[0m\u001b[0;34m.\u001b[0m\u001b[0musecols\u001b[0m\u001b[0;34m\u001b[0m\u001b[0;34m\u001b[0m\u001b[0m\n\u001b[1;32m   1890\u001b[0m \u001b[0;34m\u001b[0m\u001b[0m\n\u001b[0;32m-> 1891\u001b[0;31m         \u001b[0mself\u001b[0m\u001b[0;34m.\u001b[0m\u001b[0m_reader\u001b[0m \u001b[0;34m=\u001b[0m \u001b[0mparsers\u001b[0m\u001b[0;34m.\u001b[0m\u001b[0mTextReader\u001b[0m\u001b[0;34m(\u001b[0m\u001b[0msrc\u001b[0m\u001b[0;34m,\u001b[0m \u001b[0;34m**\u001b[0m\u001b[0mkwds\u001b[0m\u001b[0;34m)\u001b[0m\u001b[0;34m\u001b[0m\u001b[0;34m\u001b[0m\u001b[0m\n\u001b[0m\u001b[1;32m   1892\u001b[0m         \u001b[0mself\u001b[0m\u001b[0;34m.\u001b[0m\u001b[0munnamed_cols\u001b[0m \u001b[0;34m=\u001b[0m \u001b[0mself\u001b[0m\u001b[0;34m.\u001b[0m\u001b[0m_reader\u001b[0m\u001b[0;34m.\u001b[0m\u001b[0munnamed_cols\u001b[0m\u001b[0;34m\u001b[0m\u001b[0;34m\u001b[0m\u001b[0m\n\u001b[1;32m   1893\u001b[0m \u001b[0;34m\u001b[0m\u001b[0m\n",
            "\u001b[0;32mpandas/_libs/parsers.pyx\u001b[0m in \u001b[0;36mpandas._libs.parsers.TextReader.__cinit__\u001b[0;34m()\u001b[0m\n",
            "\u001b[0;32mpandas/_libs/parsers.pyx\u001b[0m in \u001b[0;36mpandas._libs.parsers.TextReader._setup_parser_source\u001b[0;34m()\u001b[0m\n",
            "\u001b[0;31mFileNotFoundError\u001b[0m: [Errno 2] File books.csv does not exist: 'books.csv'"
          ]
        }
      ]
    },
    {
      "cell_type": "code",
      "metadata": {
        "id": "NrSiwnNroavc",
        "colab": {
          "base_uri": "https://localhost:8080/",
          "height": 521
        },
        "outputId": "c7dff086-6c9c-4071-9532-41738ccaf7cc"
      },
      "source": [
        "data.head()\n",
        "#data.info()"
      ],
      "execution_count": null,
      "outputs": [
        {
          "output_type": "execute_result",
          "data": {
            "text/html": [
              "<div>\n",
              "<style scoped>\n",
              "    .dataframe tbody tr th:only-of-type {\n",
              "        vertical-align: middle;\n",
              "    }\n",
              "\n",
              "    .dataframe tbody tr th {\n",
              "        vertical-align: top;\n",
              "    }\n",
              "\n",
              "    .dataframe thead th {\n",
              "        text-align: right;\n",
              "    }\n",
              "</style>\n",
              "<table border=\"1\" class=\"dataframe\">\n",
              "  <thead>\n",
              "    <tr style=\"text-align: right;\">\n",
              "      <th></th>\n",
              "      <th>book_id</th>\n",
              "      <th>goodreads_book_id</th>\n",
              "      <th>best_book_id</th>\n",
              "      <th>work_id</th>\n",
              "      <th>books_count</th>\n",
              "      <th>isbn</th>\n",
              "      <th>isbn13</th>\n",
              "      <th>authors</th>\n",
              "      <th>original_publication_year</th>\n",
              "      <th>original_title</th>\n",
              "      <th>title</th>\n",
              "      <th>language_code</th>\n",
              "      <th>average_rating</th>\n",
              "      <th>ratings_count</th>\n",
              "      <th>work_ratings_count</th>\n",
              "      <th>work_text_reviews_count</th>\n",
              "      <th>ratings_1</th>\n",
              "      <th>ratings_2</th>\n",
              "      <th>ratings_3</th>\n",
              "      <th>ratings_4</th>\n",
              "      <th>ratings_5</th>\n",
              "      <th>image_url</th>\n",
              "      <th>small_image_url</th>\n",
              "    </tr>\n",
              "  </thead>\n",
              "  <tbody>\n",
              "    <tr>\n",
              "      <th>0</th>\n",
              "      <td>1</td>\n",
              "      <td>2767052</td>\n",
              "      <td>2767052</td>\n",
              "      <td>2792775</td>\n",
              "      <td>272</td>\n",
              "      <td>439023483</td>\n",
              "      <td>9.780439e+12</td>\n",
              "      <td>Suzanne Collins</td>\n",
              "      <td>2008.0</td>\n",
              "      <td>The Hunger Games</td>\n",
              "      <td>The Hunger Games (The Hunger Games, #1)</td>\n",
              "      <td>eng</td>\n",
              "      <td>4.34</td>\n",
              "      <td>4780653</td>\n",
              "      <td>4942365</td>\n",
              "      <td>155254</td>\n",
              "      <td>66715</td>\n",
              "      <td>127936</td>\n",
              "      <td>560092</td>\n",
              "      <td>1481305</td>\n",
              "      <td>2706317</td>\n",
              "      <td>https://images.gr-assets.com/books/1447303603m...</td>\n",
              "      <td>https://images.gr-assets.com/books/1447303603s...</td>\n",
              "    </tr>\n",
              "    <tr>\n",
              "      <th>1</th>\n",
              "      <td>2</td>\n",
              "      <td>3</td>\n",
              "      <td>3</td>\n",
              "      <td>4640799</td>\n",
              "      <td>491</td>\n",
              "      <td>439554934</td>\n",
              "      <td>9.780440e+12</td>\n",
              "      <td>J.K. Rowling, Mary GrandPré</td>\n",
              "      <td>1997.0</td>\n",
              "      <td>Harry Potter and the Philosopher's Stone</td>\n",
              "      <td>Harry Potter and the Sorcerer's Stone (Harry P...</td>\n",
              "      <td>eng</td>\n",
              "      <td>4.44</td>\n",
              "      <td>4602479</td>\n",
              "      <td>4800065</td>\n",
              "      <td>75867</td>\n",
              "      <td>75504</td>\n",
              "      <td>101676</td>\n",
              "      <td>455024</td>\n",
              "      <td>1156318</td>\n",
              "      <td>3011543</td>\n",
              "      <td>https://images.gr-assets.com/books/1474154022m...</td>\n",
              "      <td>https://images.gr-assets.com/books/1474154022s...</td>\n",
              "    </tr>\n",
              "    <tr>\n",
              "      <th>2</th>\n",
              "      <td>3</td>\n",
              "      <td>41865</td>\n",
              "      <td>41865</td>\n",
              "      <td>3212258</td>\n",
              "      <td>226</td>\n",
              "      <td>316015849</td>\n",
              "      <td>9.780316e+12</td>\n",
              "      <td>Stephenie Meyer</td>\n",
              "      <td>2005.0</td>\n",
              "      <td>Twilight</td>\n",
              "      <td>Twilight (Twilight, #1)</td>\n",
              "      <td>en-US</td>\n",
              "      <td>3.57</td>\n",
              "      <td>3866839</td>\n",
              "      <td>3916824</td>\n",
              "      <td>95009</td>\n",
              "      <td>456191</td>\n",
              "      <td>436802</td>\n",
              "      <td>793319</td>\n",
              "      <td>875073</td>\n",
              "      <td>1355439</td>\n",
              "      <td>https://images.gr-assets.com/books/1361039443m...</td>\n",
              "      <td>https://images.gr-assets.com/books/1361039443s...</td>\n",
              "    </tr>\n",
              "    <tr>\n",
              "      <th>3</th>\n",
              "      <td>4</td>\n",
              "      <td>2657</td>\n",
              "      <td>2657</td>\n",
              "      <td>3275794</td>\n",
              "      <td>487</td>\n",
              "      <td>61120081</td>\n",
              "      <td>9.780061e+12</td>\n",
              "      <td>Harper Lee</td>\n",
              "      <td>1960.0</td>\n",
              "      <td>To Kill a Mockingbird</td>\n",
              "      <td>To Kill a Mockingbird</td>\n",
              "      <td>eng</td>\n",
              "      <td>4.25</td>\n",
              "      <td>3198671</td>\n",
              "      <td>3340896</td>\n",
              "      <td>72586</td>\n",
              "      <td>60427</td>\n",
              "      <td>117415</td>\n",
              "      <td>446835</td>\n",
              "      <td>1001952</td>\n",
              "      <td>1714267</td>\n",
              "      <td>https://images.gr-assets.com/books/1361975680m...</td>\n",
              "      <td>https://images.gr-assets.com/books/1361975680s...</td>\n",
              "    </tr>\n",
              "    <tr>\n",
              "      <th>4</th>\n",
              "      <td>5</td>\n",
              "      <td>4671</td>\n",
              "      <td>4671</td>\n",
              "      <td>245494</td>\n",
              "      <td>1356</td>\n",
              "      <td>743273567</td>\n",
              "      <td>9.780743e+12</td>\n",
              "      <td>F. Scott Fitzgerald</td>\n",
              "      <td>1925.0</td>\n",
              "      <td>The Great Gatsby</td>\n",
              "      <td>The Great Gatsby</td>\n",
              "      <td>eng</td>\n",
              "      <td>3.89</td>\n",
              "      <td>2683664</td>\n",
              "      <td>2773745</td>\n",
              "      <td>51992</td>\n",
              "      <td>86236</td>\n",
              "      <td>197621</td>\n",
              "      <td>606158</td>\n",
              "      <td>936012</td>\n",
              "      <td>947718</td>\n",
              "      <td>https://images.gr-assets.com/books/1490528560m...</td>\n",
              "      <td>https://images.gr-assets.com/books/1490528560s...</td>\n",
              "    </tr>\n",
              "  </tbody>\n",
              "</table>\n",
              "</div>"
            ],
            "text/plain": [
              "   book_id  ...                                    small_image_url\n",
              "0        1  ...  https://images.gr-assets.com/books/1447303603s...\n",
              "1        2  ...  https://images.gr-assets.com/books/1474154022s...\n",
              "2        3  ...  https://images.gr-assets.com/books/1361039443s...\n",
              "3        4  ...  https://images.gr-assets.com/books/1361975680s...\n",
              "4        5  ...  https://images.gr-assets.com/books/1490528560s...\n",
              "\n",
              "[5 rows x 23 columns]"
            ]
          },
          "metadata": {
            "tags": []
          },
          "execution_count": 54
        }
      ]
    },
    {
      "cell_type": "code",
      "metadata": {
        "id": "IbbxgTTvoavm",
        "colab": {
          "base_uri": "https://localhost:8080/",
          "height": 148
        },
        "outputId": "585de86d-68f0-4984-9946-dde54aaf5be6"
      },
      "source": [
        "data.columns"
      ],
      "execution_count": null,
      "outputs": [
        {
          "output_type": "execute_result",
          "data": {
            "text/plain": [
              "Index(['book_id', 'goodreads_book_id', 'best_book_id', 'work_id',\n",
              "       'books_count', 'isbn', 'isbn13', 'authors', 'original_publication_year',\n",
              "       'original_title', 'title', 'language_code', 'average_rating',\n",
              "       'ratings_count', 'work_ratings_count', 'work_text_reviews_count',\n",
              "       'ratings_1', 'ratings_2', 'ratings_3', 'ratings_4', 'ratings_5',\n",
              "       'image_url', 'small_image_url'],\n",
              "      dtype='object')"
            ]
          },
          "metadata": {
            "tags": []
          },
          "execution_count": 55
        }
      ]
    },
    {
      "cell_type": "code",
      "metadata": {
        "id": "TEO5N6Tqoav1",
        "colab": {
          "base_uri": "https://localhost:8080/",
          "height": 320
        },
        "outputId": "34cb277e-454b-4793-bfad-ec7f2d96967e"
      },
      "source": [
        "data.describe()"
      ],
      "execution_count": null,
      "outputs": [
        {
          "output_type": "execute_result",
          "data": {
            "text/html": [
              "<div>\n",
              "<style scoped>\n",
              "    .dataframe tbody tr th:only-of-type {\n",
              "        vertical-align: middle;\n",
              "    }\n",
              "\n",
              "    .dataframe tbody tr th {\n",
              "        vertical-align: top;\n",
              "    }\n",
              "\n",
              "    .dataframe thead th {\n",
              "        text-align: right;\n",
              "    }\n",
              "</style>\n",
              "<table border=\"1\" class=\"dataframe\">\n",
              "  <thead>\n",
              "    <tr style=\"text-align: right;\">\n",
              "      <th></th>\n",
              "      <th>book_id</th>\n",
              "      <th>goodreads_book_id</th>\n",
              "      <th>best_book_id</th>\n",
              "      <th>work_id</th>\n",
              "      <th>books_count</th>\n",
              "      <th>isbn13</th>\n",
              "      <th>original_publication_year</th>\n",
              "      <th>average_rating</th>\n",
              "      <th>ratings_count</th>\n",
              "      <th>work_ratings_count</th>\n",
              "      <th>work_text_reviews_count</th>\n",
              "      <th>ratings_1</th>\n",
              "      <th>ratings_2</th>\n",
              "      <th>ratings_3</th>\n",
              "      <th>ratings_4</th>\n",
              "      <th>ratings_5</th>\n",
              "    </tr>\n",
              "  </thead>\n",
              "  <tbody>\n",
              "    <tr>\n",
              "      <th>count</th>\n",
              "      <td>10000.00000</td>\n",
              "      <td>1.000000e+04</td>\n",
              "      <td>1.000000e+04</td>\n",
              "      <td>1.000000e+04</td>\n",
              "      <td>10000.000000</td>\n",
              "      <td>9.415000e+03</td>\n",
              "      <td>9979.000000</td>\n",
              "      <td>10000.000000</td>\n",
              "      <td>1.000000e+04</td>\n",
              "      <td>1.000000e+04</td>\n",
              "      <td>10000.000000</td>\n",
              "      <td>10000.000000</td>\n",
              "      <td>10000.000000</td>\n",
              "      <td>10000.000000</td>\n",
              "      <td>1.000000e+04</td>\n",
              "      <td>1.000000e+04</td>\n",
              "    </tr>\n",
              "    <tr>\n",
              "      <th>mean</th>\n",
              "      <td>5000.50000</td>\n",
              "      <td>5.264697e+06</td>\n",
              "      <td>5.471214e+06</td>\n",
              "      <td>8.646183e+06</td>\n",
              "      <td>75.712700</td>\n",
              "      <td>9.755044e+12</td>\n",
              "      <td>1981.987674</td>\n",
              "      <td>4.002191</td>\n",
              "      <td>5.400124e+04</td>\n",
              "      <td>5.968732e+04</td>\n",
              "      <td>2919.955300</td>\n",
              "      <td>1345.040600</td>\n",
              "      <td>3110.885000</td>\n",
              "      <td>11475.893800</td>\n",
              "      <td>1.996570e+04</td>\n",
              "      <td>2.378981e+04</td>\n",
              "    </tr>\n",
              "    <tr>\n",
              "      <th>std</th>\n",
              "      <td>2886.89568</td>\n",
              "      <td>7.575462e+06</td>\n",
              "      <td>7.827330e+06</td>\n",
              "      <td>1.175106e+07</td>\n",
              "      <td>170.470728</td>\n",
              "      <td>4.428619e+11</td>\n",
              "      <td>152.576665</td>\n",
              "      <td>0.254427</td>\n",
              "      <td>1.573700e+05</td>\n",
              "      <td>1.678038e+05</td>\n",
              "      <td>6124.378132</td>\n",
              "      <td>6635.626263</td>\n",
              "      <td>9717.123578</td>\n",
              "      <td>28546.449183</td>\n",
              "      <td>5.144736e+04</td>\n",
              "      <td>7.976889e+04</td>\n",
              "    </tr>\n",
              "    <tr>\n",
              "      <th>min</th>\n",
              "      <td>1.00000</td>\n",
              "      <td>1.000000e+00</td>\n",
              "      <td>1.000000e+00</td>\n",
              "      <td>8.700000e+01</td>\n",
              "      <td>1.000000</td>\n",
              "      <td>1.951703e+08</td>\n",
              "      <td>-1750.000000</td>\n",
              "      <td>2.470000</td>\n",
              "      <td>2.716000e+03</td>\n",
              "      <td>5.510000e+03</td>\n",
              "      <td>3.000000</td>\n",
              "      <td>11.000000</td>\n",
              "      <td>30.000000</td>\n",
              "      <td>323.000000</td>\n",
              "      <td>7.500000e+02</td>\n",
              "      <td>7.540000e+02</td>\n",
              "    </tr>\n",
              "    <tr>\n",
              "      <th>25%</th>\n",
              "      <td>2500.75000</td>\n",
              "      <td>4.627575e+04</td>\n",
              "      <td>4.791175e+04</td>\n",
              "      <td>1.008841e+06</td>\n",
              "      <td>23.000000</td>\n",
              "      <td>9.780316e+12</td>\n",
              "      <td>1990.000000</td>\n",
              "      <td>3.850000</td>\n",
              "      <td>1.356875e+04</td>\n",
              "      <td>1.543875e+04</td>\n",
              "      <td>694.000000</td>\n",
              "      <td>196.000000</td>\n",
              "      <td>656.000000</td>\n",
              "      <td>3112.000000</td>\n",
              "      <td>5.405750e+03</td>\n",
              "      <td>5.334000e+03</td>\n",
              "    </tr>\n",
              "    <tr>\n",
              "      <th>50%</th>\n",
              "      <td>5000.50000</td>\n",
              "      <td>3.949655e+05</td>\n",
              "      <td>4.251235e+05</td>\n",
              "      <td>2.719524e+06</td>\n",
              "      <td>40.000000</td>\n",
              "      <td>9.780452e+12</td>\n",
              "      <td>2004.000000</td>\n",
              "      <td>4.020000</td>\n",
              "      <td>2.115550e+04</td>\n",
              "      <td>2.383250e+04</td>\n",
              "      <td>1402.000000</td>\n",
              "      <td>391.000000</td>\n",
              "      <td>1163.000000</td>\n",
              "      <td>4894.000000</td>\n",
              "      <td>8.269500e+03</td>\n",
              "      <td>8.836000e+03</td>\n",
              "    </tr>\n",
              "    <tr>\n",
              "      <th>75%</th>\n",
              "      <td>7500.25000</td>\n",
              "      <td>9.382225e+06</td>\n",
              "      <td>9.636112e+06</td>\n",
              "      <td>1.451775e+07</td>\n",
              "      <td>67.000000</td>\n",
              "      <td>9.780831e+12</td>\n",
              "      <td>2011.000000</td>\n",
              "      <td>4.180000</td>\n",
              "      <td>4.105350e+04</td>\n",
              "      <td>4.591500e+04</td>\n",
              "      <td>2744.250000</td>\n",
              "      <td>885.000000</td>\n",
              "      <td>2353.250000</td>\n",
              "      <td>9287.000000</td>\n",
              "      <td>1.602350e+04</td>\n",
              "      <td>1.730450e+04</td>\n",
              "    </tr>\n",
              "    <tr>\n",
              "      <th>max</th>\n",
              "      <td>10000.00000</td>\n",
              "      <td>3.328864e+07</td>\n",
              "      <td>3.553423e+07</td>\n",
              "      <td>5.639960e+07</td>\n",
              "      <td>3455.000000</td>\n",
              "      <td>9.790008e+12</td>\n",
              "      <td>2017.000000</td>\n",
              "      <td>4.820000</td>\n",
              "      <td>4.780653e+06</td>\n",
              "      <td>4.942365e+06</td>\n",
              "      <td>155254.000000</td>\n",
              "      <td>456191.000000</td>\n",
              "      <td>436802.000000</td>\n",
              "      <td>793319.000000</td>\n",
              "      <td>1.481305e+06</td>\n",
              "      <td>3.011543e+06</td>\n",
              "    </tr>\n",
              "  </tbody>\n",
              "</table>\n",
              "</div>"
            ],
            "text/plain": [
              "           book_id  goodreads_book_id  ...     ratings_4     ratings_5\n",
              "count  10000.00000       1.000000e+04  ...  1.000000e+04  1.000000e+04\n",
              "mean    5000.50000       5.264697e+06  ...  1.996570e+04  2.378981e+04\n",
              "std     2886.89568       7.575462e+06  ...  5.144736e+04  7.976889e+04\n",
              "min        1.00000       1.000000e+00  ...  7.500000e+02  7.540000e+02\n",
              "25%     2500.75000       4.627575e+04  ...  5.405750e+03  5.334000e+03\n",
              "50%     5000.50000       3.949655e+05  ...  8.269500e+03  8.836000e+03\n",
              "75%     7500.25000       9.382225e+06  ...  1.602350e+04  1.730450e+04\n",
              "max    10000.00000       3.328864e+07  ...  1.481305e+06  3.011543e+06\n",
              "\n",
              "[8 rows x 16 columns]"
            ]
          },
          "metadata": {
            "tags": []
          },
          "execution_count": 56
        }
      ]
    },
    {
      "cell_type": "code",
      "metadata": {
        "scrolled": false,
        "id": "A3qjxf_Coav8",
        "colab": {
          "base_uri": "https://localhost:8080/",
          "height": 571
        },
        "outputId": "52ab1e71-68c3-4389-ca73-67aeea172cd7"
      },
      "source": [
        "data.corr()"
      ],
      "execution_count": null,
      "outputs": [
        {
          "output_type": "execute_result",
          "data": {
            "text/html": [
              "<div>\n",
              "<style scoped>\n",
              "    .dataframe tbody tr th:only-of-type {\n",
              "        vertical-align: middle;\n",
              "    }\n",
              "\n",
              "    .dataframe tbody tr th {\n",
              "        vertical-align: top;\n",
              "    }\n",
              "\n",
              "    .dataframe thead th {\n",
              "        text-align: right;\n",
              "    }\n",
              "</style>\n",
              "<table border=\"1\" class=\"dataframe\">\n",
              "  <thead>\n",
              "    <tr style=\"text-align: right;\">\n",
              "      <th></th>\n",
              "      <th>book_id</th>\n",
              "      <th>goodreads_book_id</th>\n",
              "      <th>best_book_id</th>\n",
              "      <th>work_id</th>\n",
              "      <th>books_count</th>\n",
              "      <th>isbn13</th>\n",
              "      <th>original_publication_year</th>\n",
              "      <th>average_rating</th>\n",
              "      <th>ratings_count</th>\n",
              "      <th>work_ratings_count</th>\n",
              "      <th>work_text_reviews_count</th>\n",
              "      <th>ratings_1</th>\n",
              "      <th>ratings_2</th>\n",
              "      <th>ratings_3</th>\n",
              "      <th>ratings_4</th>\n",
              "      <th>ratings_5</th>\n",
              "    </tr>\n",
              "  </thead>\n",
              "  <tbody>\n",
              "    <tr>\n",
              "      <th>book_id</th>\n",
              "      <td>1.000000</td>\n",
              "      <td>0.115154</td>\n",
              "      <td>0.104516</td>\n",
              "      <td>0.113861</td>\n",
              "      <td>-0.263841</td>\n",
              "      <td>-0.011291</td>\n",
              "      <td>0.049875</td>\n",
              "      <td>-0.040880</td>\n",
              "      <td>-0.373178</td>\n",
              "      <td>-0.382656</td>\n",
              "      <td>-0.419292</td>\n",
              "      <td>-0.239401</td>\n",
              "      <td>-0.345764</td>\n",
              "      <td>-0.413279</td>\n",
              "      <td>-0.407079</td>\n",
              "      <td>-0.332486</td>\n",
              "    </tr>\n",
              "    <tr>\n",
              "      <th>goodreads_book_id</th>\n",
              "      <td>0.115154</td>\n",
              "      <td>1.000000</td>\n",
              "      <td>0.966620</td>\n",
              "      <td>0.929356</td>\n",
              "      <td>-0.164578</td>\n",
              "      <td>-0.048246</td>\n",
              "      <td>0.133790</td>\n",
              "      <td>-0.024848</td>\n",
              "      <td>-0.073023</td>\n",
              "      <td>-0.063760</td>\n",
              "      <td>0.118845</td>\n",
              "      <td>-0.038375</td>\n",
              "      <td>-0.056571</td>\n",
              "      <td>-0.075634</td>\n",
              "      <td>-0.063310</td>\n",
              "      <td>-0.056145</td>\n",
              "    </tr>\n",
              "    <tr>\n",
              "      <th>best_book_id</th>\n",
              "      <td>0.104516</td>\n",
              "      <td>0.966620</td>\n",
              "      <td>1.000000</td>\n",
              "      <td>0.899258</td>\n",
              "      <td>-0.159240</td>\n",
              "      <td>-0.047253</td>\n",
              "      <td>0.131442</td>\n",
              "      <td>-0.021187</td>\n",
              "      <td>-0.069182</td>\n",
              "      <td>-0.055835</td>\n",
              "      <td>0.125893</td>\n",
              "      <td>-0.033894</td>\n",
              "      <td>-0.049284</td>\n",
              "      <td>-0.067014</td>\n",
              "      <td>-0.054462</td>\n",
              "      <td>-0.049524</td>\n",
              "    </tr>\n",
              "    <tr>\n",
              "      <th>work_id</th>\n",
              "      <td>0.113861</td>\n",
              "      <td>0.929356</td>\n",
              "      <td>0.899258</td>\n",
              "      <td>1.000000</td>\n",
              "      <td>-0.109436</td>\n",
              "      <td>-0.039320</td>\n",
              "      <td>0.107972</td>\n",
              "      <td>-0.017555</td>\n",
              "      <td>-0.062720</td>\n",
              "      <td>-0.054712</td>\n",
              "      <td>0.096985</td>\n",
              "      <td>-0.034590</td>\n",
              "      <td>-0.051367</td>\n",
              "      <td>-0.066746</td>\n",
              "      <td>-0.054775</td>\n",
              "      <td>-0.046745</td>\n",
              "    </tr>\n",
              "    <tr>\n",
              "      <th>books_count</th>\n",
              "      <td>-0.263841</td>\n",
              "      <td>-0.164578</td>\n",
              "      <td>-0.159240</td>\n",
              "      <td>-0.109436</td>\n",
              "      <td>1.000000</td>\n",
              "      <td>0.017865</td>\n",
              "      <td>-0.321753</td>\n",
              "      <td>-0.069888</td>\n",
              "      <td>0.324235</td>\n",
              "      <td>0.333664</td>\n",
              "      <td>0.198698</td>\n",
              "      <td>0.225763</td>\n",
              "      <td>0.334923</td>\n",
              "      <td>0.383699</td>\n",
              "      <td>0.349564</td>\n",
              "      <td>0.279559</td>\n",
              "    </tr>\n",
              "    <tr>\n",
              "      <th>isbn13</th>\n",
              "      <td>-0.011291</td>\n",
              "      <td>-0.048246</td>\n",
              "      <td>-0.047253</td>\n",
              "      <td>-0.039320</td>\n",
              "      <td>0.017865</td>\n",
              "      <td>1.000000</td>\n",
              "      <td>-0.004612</td>\n",
              "      <td>-0.025667</td>\n",
              "      <td>0.008904</td>\n",
              "      <td>0.009166</td>\n",
              "      <td>0.009553</td>\n",
              "      <td>0.006054</td>\n",
              "      <td>0.010345</td>\n",
              "      <td>0.012142</td>\n",
              "      <td>0.010161</td>\n",
              "      <td>0.006622</td>\n",
              "    </tr>\n",
              "    <tr>\n",
              "      <th>original_publication_year</th>\n",
              "      <td>0.049875</td>\n",
              "      <td>0.133790</td>\n",
              "      <td>0.131442</td>\n",
              "      <td>0.107972</td>\n",
              "      <td>-0.321753</td>\n",
              "      <td>-0.004612</td>\n",
              "      <td>1.000000</td>\n",
              "      <td>0.015608</td>\n",
              "      <td>-0.024415</td>\n",
              "      <td>-0.025448</td>\n",
              "      <td>0.027784</td>\n",
              "      <td>-0.019635</td>\n",
              "      <td>-0.038472</td>\n",
              "      <td>-0.042459</td>\n",
              "      <td>-0.025785</td>\n",
              "      <td>-0.015388</td>\n",
              "    </tr>\n",
              "    <tr>\n",
              "      <th>average_rating</th>\n",
              "      <td>-0.040880</td>\n",
              "      <td>-0.024848</td>\n",
              "      <td>-0.021187</td>\n",
              "      <td>-0.017555</td>\n",
              "      <td>-0.069888</td>\n",
              "      <td>-0.025667</td>\n",
              "      <td>0.015608</td>\n",
              "      <td>1.000000</td>\n",
              "      <td>0.044990</td>\n",
              "      <td>0.045042</td>\n",
              "      <td>0.007481</td>\n",
              "      <td>-0.077997</td>\n",
              "      <td>-0.115875</td>\n",
              "      <td>-0.065237</td>\n",
              "      <td>0.036108</td>\n",
              "      <td>0.115412</td>\n",
              "    </tr>\n",
              "    <tr>\n",
              "      <th>ratings_count</th>\n",
              "      <td>-0.373178</td>\n",
              "      <td>-0.073023</td>\n",
              "      <td>-0.069182</td>\n",
              "      <td>-0.062720</td>\n",
              "      <td>0.324235</td>\n",
              "      <td>0.008904</td>\n",
              "      <td>-0.024415</td>\n",
              "      <td>0.044990</td>\n",
              "      <td>1.000000</td>\n",
              "      <td>0.995068</td>\n",
              "      <td>0.779635</td>\n",
              "      <td>0.723144</td>\n",
              "      <td>0.845949</td>\n",
              "      <td>0.935193</td>\n",
              "      <td>0.978869</td>\n",
              "      <td>0.964046</td>\n",
              "    </tr>\n",
              "    <tr>\n",
              "      <th>work_ratings_count</th>\n",
              "      <td>-0.382656</td>\n",
              "      <td>-0.063760</td>\n",
              "      <td>-0.055835</td>\n",
              "      <td>-0.054712</td>\n",
              "      <td>0.333664</td>\n",
              "      <td>0.009166</td>\n",
              "      <td>-0.025448</td>\n",
              "      <td>0.045042</td>\n",
              "      <td>0.995068</td>\n",
              "      <td>1.000000</td>\n",
              "      <td>0.807009</td>\n",
              "      <td>0.718718</td>\n",
              "      <td>0.848581</td>\n",
              "      <td>0.941182</td>\n",
              "      <td>0.987764</td>\n",
              "      <td>0.966587</td>\n",
              "    </tr>\n",
              "    <tr>\n",
              "      <th>work_text_reviews_count</th>\n",
              "      <td>-0.419292</td>\n",
              "      <td>0.118845</td>\n",
              "      <td>0.125893</td>\n",
              "      <td>0.096985</td>\n",
              "      <td>0.198698</td>\n",
              "      <td>0.009553</td>\n",
              "      <td>0.027784</td>\n",
              "      <td>0.007481</td>\n",
              "      <td>0.779635</td>\n",
              "      <td>0.807009</td>\n",
              "      <td>1.000000</td>\n",
              "      <td>0.572007</td>\n",
              "      <td>0.696880</td>\n",
              "      <td>0.762214</td>\n",
              "      <td>0.817826</td>\n",
              "      <td>0.764940</td>\n",
              "    </tr>\n",
              "    <tr>\n",
              "      <th>ratings_1</th>\n",
              "      <td>-0.239401</td>\n",
              "      <td>-0.038375</td>\n",
              "      <td>-0.033894</td>\n",
              "      <td>-0.034590</td>\n",
              "      <td>0.225763</td>\n",
              "      <td>0.006054</td>\n",
              "      <td>-0.019635</td>\n",
              "      <td>-0.077997</td>\n",
              "      <td>0.723144</td>\n",
              "      <td>0.718718</td>\n",
              "      <td>0.572007</td>\n",
              "      <td>1.000000</td>\n",
              "      <td>0.926140</td>\n",
              "      <td>0.795364</td>\n",
              "      <td>0.672986</td>\n",
              "      <td>0.597231</td>\n",
              "    </tr>\n",
              "    <tr>\n",
              "      <th>ratings_2</th>\n",
              "      <td>-0.345764</td>\n",
              "      <td>-0.056571</td>\n",
              "      <td>-0.049284</td>\n",
              "      <td>-0.051367</td>\n",
              "      <td>0.334923</td>\n",
              "      <td>0.010345</td>\n",
              "      <td>-0.038472</td>\n",
              "      <td>-0.115875</td>\n",
              "      <td>0.845949</td>\n",
              "      <td>0.848581</td>\n",
              "      <td>0.696880</td>\n",
              "      <td>0.926140</td>\n",
              "      <td>1.000000</td>\n",
              "      <td>0.949596</td>\n",
              "      <td>0.838298</td>\n",
              "      <td>0.705747</td>\n",
              "    </tr>\n",
              "    <tr>\n",
              "      <th>ratings_3</th>\n",
              "      <td>-0.413279</td>\n",
              "      <td>-0.075634</td>\n",
              "      <td>-0.067014</td>\n",
              "      <td>-0.066746</td>\n",
              "      <td>0.383699</td>\n",
              "      <td>0.012142</td>\n",
              "      <td>-0.042459</td>\n",
              "      <td>-0.065237</td>\n",
              "      <td>0.935193</td>\n",
              "      <td>0.941182</td>\n",
              "      <td>0.762214</td>\n",
              "      <td>0.795364</td>\n",
              "      <td>0.949596</td>\n",
              "      <td>1.000000</td>\n",
              "      <td>0.952998</td>\n",
              "      <td>0.825550</td>\n",
              "    </tr>\n",
              "    <tr>\n",
              "      <th>ratings_4</th>\n",
              "      <td>-0.407079</td>\n",
              "      <td>-0.063310</td>\n",
              "      <td>-0.054462</td>\n",
              "      <td>-0.054775</td>\n",
              "      <td>0.349564</td>\n",
              "      <td>0.010161</td>\n",
              "      <td>-0.025785</td>\n",
              "      <td>0.036108</td>\n",
              "      <td>0.978869</td>\n",
              "      <td>0.987764</td>\n",
              "      <td>0.817826</td>\n",
              "      <td>0.672986</td>\n",
              "      <td>0.838298</td>\n",
              "      <td>0.952998</td>\n",
              "      <td>1.000000</td>\n",
              "      <td>0.933785</td>\n",
              "    </tr>\n",
              "    <tr>\n",
              "      <th>ratings_5</th>\n",
              "      <td>-0.332486</td>\n",
              "      <td>-0.056145</td>\n",
              "      <td>-0.049524</td>\n",
              "      <td>-0.046745</td>\n",
              "      <td>0.279559</td>\n",
              "      <td>0.006622</td>\n",
              "      <td>-0.015388</td>\n",
              "      <td>0.115412</td>\n",
              "      <td>0.964046</td>\n",
              "      <td>0.966587</td>\n",
              "      <td>0.764940</td>\n",
              "      <td>0.597231</td>\n",
              "      <td>0.705747</td>\n",
              "      <td>0.825550</td>\n",
              "      <td>0.933785</td>\n",
              "      <td>1.000000</td>\n",
              "    </tr>\n",
              "  </tbody>\n",
              "</table>\n",
              "</div>"
            ],
            "text/plain": [
              "                            book_id  goodreads_book_id  ...  ratings_4  ratings_5\n",
              "book_id                    1.000000           0.115154  ...  -0.407079  -0.332486\n",
              "goodreads_book_id          0.115154           1.000000  ...  -0.063310  -0.056145\n",
              "best_book_id               0.104516           0.966620  ...  -0.054462  -0.049524\n",
              "work_id                    0.113861           0.929356  ...  -0.054775  -0.046745\n",
              "books_count               -0.263841          -0.164578  ...   0.349564   0.279559\n",
              "isbn13                    -0.011291          -0.048246  ...   0.010161   0.006622\n",
              "original_publication_year  0.049875           0.133790  ...  -0.025785  -0.015388\n",
              "average_rating            -0.040880          -0.024848  ...   0.036108   0.115412\n",
              "ratings_count             -0.373178          -0.073023  ...   0.978869   0.964046\n",
              "work_ratings_count        -0.382656          -0.063760  ...   0.987764   0.966587\n",
              "work_text_reviews_count   -0.419292           0.118845  ...   0.817826   0.764940\n",
              "ratings_1                 -0.239401          -0.038375  ...   0.672986   0.597231\n",
              "ratings_2                 -0.345764          -0.056571  ...   0.838298   0.705747\n",
              "ratings_3                 -0.413279          -0.075634  ...   0.952998   0.825550\n",
              "ratings_4                 -0.407079          -0.063310  ...   1.000000   0.933785\n",
              "ratings_5                 -0.332486          -0.056145  ...   0.933785   1.000000\n",
              "\n",
              "[16 rows x 16 columns]"
            ]
          },
          "metadata": {
            "tags": []
          },
          "execution_count": 57
        }
      ]
    },
    {
      "cell_type": "code",
      "metadata": {
        "id": "cM_5ebvZoawD",
        "colab": {
          "base_uri": "https://localhost:8080/",
          "height": 730
        },
        "outputId": "d5f39012-ad65-4ef5-d03e-b35016983534"
      },
      "source": [
        "import seaborn as sns\n",
        "import matplotlib.pyplot as plt\n",
        "%matplotlib inline\n",
        "plt.figure(figsize=(12,10))\n",
        "sns.heatmap(data.corr(),annot=True, cmap=\"CMRmap\",annot_kws={\"size\":9},fmt='.2f')"
      ],
      "execution_count": null,
      "outputs": [
        {
          "output_type": "execute_result",
          "data": {
            "text/plain": [
              "<matplotlib.axes._subplots.AxesSubplot at 0x7f0117a88d68>"
            ]
          },
          "metadata": {
            "tags": []
          },
          "execution_count": 58
        },
        {
          "output_type": "display_data",
          "data": {
            "image/png": "[encoded data removed]",
            "text/plain": [
              "<Figure size 864x720 with 2 Axes>"
            ]
          },
          "metadata": {
            "tags": [],
            "needs_background": "light"
          }
        }
      ]
    },
    {
      "cell_type": "code",
      "metadata": {
        "id": "NaCOyvncoawJ"
      },
      "source": [
        "from PIL import Image"
      ],
      "execution_count": null,
      "outputs": []
    },
    {
      "cell_type": "code",
      "metadata": {
        "scrolled": false,
        "id": "A11E95DgoawN",
        "colab": {
          "base_uri": "https://localhost:8080/",
          "height": 466
        },
        "outputId": "6962dcf7-ae08-4628-c7c5-a6bd4c2a609b"
      },
      "source": [
        "data.isnull().sum()"
      ],
      "execution_count": null,
      "outputs": [
        {
          "output_type": "execute_result",
          "data": {
            "text/plain": [
              "book_id                         0\n",
              "goodreads_book_id               0\n",
              "best_book_id                    0\n",
              "work_id                         0\n",
              "books_count                     0\n",
              "isbn                          700\n",
              "isbn13                        585\n",
              "authors                         0\n",
              "original_publication_year      21\n",
              "original_title                585\n",
              "title                           0\n",
              "language_code                1084\n",
              "average_rating                  0\n",
              "ratings_count                   0\n",
              "work_ratings_count              0\n",
              "work_text_reviews_count         0\n",
              "ratings_1                       0\n",
              "ratings_2                       0\n",
              "ratings_3                       0\n",
              "ratings_4                       0\n",
              "ratings_5                       0\n",
              "image_url                       0\n",
              "small_image_url                 0\n",
              "dtype: int64"
            ]
          },
          "metadata": {
            "tags": []
          },
          "execution_count": 60
        }
      ]
    },
    {
      "cell_type": "code",
      "metadata": {
        "id": "w0EpIV7FoawT",
        "colab": {
          "base_uri": "https://localhost:8080/",
          "height": 938
        },
        "outputId": "57f16f9a-f83a-4e1b-8fae-762997e86ff4"
      },
      "source": [
        "data.hist(figsize = (12,10))"
      ],
      "execution_count": null,
      "outputs": [
        {
          "output_type": "execute_result",
          "data": {
            "text/plain": [
              "array([[<matplotlib.axes._subplots.AxesSubplot object at 0x7f01181155f8>,\n",
              "        <matplotlib.axes._subplots.AxesSubplot object at 0x7f011672bc50>,\n",
              "        <matplotlib.axes._subplots.AxesSubplot object at 0x7f011667dfd0>,\n",
              "        <matplotlib.axes._subplots.AxesSubplot object at 0x7f011663b390>],\n",
              "       [<matplotlib.axes._subplots.AxesSubplot object at 0x7f011666d710>,\n",
              "        <matplotlib.axes._subplots.AxesSubplot object at 0x7f011661ea90>,\n",
              "        <matplotlib.axes._subplots.AxesSubplot object at 0x7f01165d1e10>,\n",
              "        <matplotlib.axes._subplots.AxesSubplot object at 0x7f0116591198>],\n",
              "       [<matplotlib.axes._subplots.AxesSubplot object at 0x7f0116591208>,\n",
              "        <matplotlib.axes._subplots.AxesSubplot object at 0x7f01164f58d0>,\n",
              "        <matplotlib.axes._subplots.AxesSubplot object at 0x7f0116527c50>,\n",
              "        <matplotlib.axes._subplots.AxesSubplot object at 0x7f01164d9fd0>],\n",
              "       [<matplotlib.axes._subplots.AxesSubplot object at 0x7f0116498390>,\n",
              "        <matplotlib.axes._subplots.AxesSubplot object at 0x7f0116449710>,\n",
              "        <matplotlib.axes._subplots.AxesSubplot object at 0x7f01163fba90>,\n",
              "        <matplotlib.axes._subplots.AxesSubplot object at 0x7f011642ce10>]],\n",
              "      dtype=object)"
            ]
          },
          "metadata": {
            "tags": []
          },
          "execution_count": 61
        },
        {
          "output_type": "display_data",
          "data": {
            "image/png": "[encoded data removed]",
            "text/plain": [
              "<Figure size 864x720 with 16 Axes>"
            ]
          },
          "metadata": {
            "tags": [],
            "needs_background": "light"
          }
        }
      ]
    },
    {
      "cell_type": "code",
      "metadata": {
        "id": "aQc7OVa5oawZ",
        "colab": {
          "base_uri": "https://localhost:8080/",
          "height": 241
        },
        "outputId": "a64b42ec-4305-49f7-d582-ad8c33e13c66"
      },
      "source": [
        "data['authors'].value_counts()"
      ],
      "execution_count": null,
      "outputs": [
        {
          "output_type": "execute_result",
          "data": {
            "text/plain": [
              "Stephen King                                             60\n",
              "Nora Roberts                                             59\n",
              "Dean Koontz                                              47\n",
              "Terry Pratchett                                          42\n",
              "Agatha Christie                                          39\n",
              "                                                         ..\n",
              "Lynsay Sands, Jeaniene Frost                              1\n",
              "Brad Meltzer, Rags Morales, Michael Bair, Joss Whedon     1\n",
              "Elizabeth Kolbert                                         1\n",
              "خالد الخميسي, Khaled Al Khamissi                          1\n",
              "Lene Kaaberbøl, Agnete Friis                              1\n",
              "Name: authors, Length: 4664, dtype: int64"
            ]
          },
          "metadata": {
            "tags": []
          },
          "execution_count": 62
        }
      ]
    },
    {
      "cell_type": "code",
      "metadata": {
        "id": "Kc-TNLiooawg"
      },
      "source": [
        "data['language_code'].replace(np.nan, 'eng', inplace=True) "
      ],
      "execution_count": null,
      "outputs": []
    },
    {
      "cell_type": "code",
      "metadata": {
        "id": "-JmfkYauoawl",
        "colab": {
          "base_uri": "https://localhost:8080/",
          "height": 466
        },
        "outputId": "009ac69a-526c-4375-d80d-13b6f773b638"
      },
      "source": [
        "data.isnull().sum()"
      ],
      "execution_count": null,
      "outputs": [
        {
          "output_type": "execute_result",
          "data": {
            "text/plain": [
              "book_id                        0\n",
              "goodreads_book_id              0\n",
              "best_book_id                   0\n",
              "work_id                        0\n",
              "books_count                    0\n",
              "isbn                         700\n",
              "isbn13                       585\n",
              "authors                        0\n",
              "original_publication_year     21\n",
              "original_title               585\n",
              "title                          0\n",
              "language_code                  0\n",
              "average_rating                 0\n",
              "ratings_count                  0\n",
              "work_ratings_count             0\n",
              "work_text_reviews_count        0\n",
              "ratings_1                      0\n",
              "ratings_2                      0\n",
              "ratings_3                      0\n",
              "ratings_4                      0\n",
              "ratings_5                      0\n",
              "image_url                      0\n",
              "small_image_url                0\n",
              "dtype: int64"
            ]
          },
          "metadata": {
            "tags": []
          },
          "execution_count": 64
        }
      ]
    },
    {
      "cell_type": "code",
      "metadata": {
        "id": "oMnojyv4oawq"
      },
      "source": [
        "data_1 = data[['book_id', 'authors', 'title', 'original_publication_year', 'average_rating', 'language_code', 'image_url']]"
      ],
      "execution_count": null,
      "outputs": []
    },
    {
      "cell_type": "code",
      "metadata": {
        "id": "tInq3ey1oaw-",
        "colab": {
          "base_uri": "https://localhost:8080/",
          "height": 131
        },
        "outputId": "f0670621-64f1-4e55-cec0-54d85b0a8cb9"
      },
      "source": [
        "data_1.dropna(axis=0, inplace=True)"
      ],
      "execution_count": null,
      "outputs": [
        {
          "output_type": "stream",
          "text": [
            "/usr/local/lib/python3.6/dist-packages/ipykernel_launcher.py:1: SettingWithCopyWarning: \n",
            "A value is trying to be set on a copy of a slice from a DataFrame\n",
            "\n",
            "See the caveats in the documentation: https://pandas.pydata.org/pandas-docs/stable/user_guide/indexing.html#returning-a-view-versus-a-copy\n",
            "  \"\"\"Entry point for launching an IPython kernel.\n"
          ],
          "name": "stderr"
        }
      ]
    },
    {
      "cell_type": "code",
      "metadata": {
        "scrolled": true,
        "id": "X67mBztKoaxG",
        "colab": {
          "base_uri": "https://localhost:8080/",
          "height": 279
        },
        "outputId": "a8751da9-4060-4f29-9a87-d694d116ed13"
      },
      "source": [
        "data_1.info()"
      ],
      "execution_count": null,
      "outputs": [
        {
          "output_type": "stream",
          "text": [
            "<class 'pandas.core.frame.DataFrame'>\n",
            "Int64Index: 9979 entries, 0 to 9999\n",
            "Data columns (total 7 columns):\n",
            " #   Column                     Non-Null Count  Dtype  \n",
            "---  ------                     --------------  -----  \n",
            " 0   book_id                    9979 non-null   int64  \n",
            " 1   authors                    9979 non-null   object \n",
            " 2   title                      9979 non-null   object \n",
            " 3   original_publication_year  9979 non-null   float64\n",
            " 4   average_rating             9979 non-null   float64\n",
            " 5   language_code              9979 non-null   object \n",
            " 6   image_url                  9979 non-null   object \n",
            "dtypes: float64(2), int64(1), object(4)\n",
            "memory usage: 623.7+ KB\n"
          ],
          "name": "stdout"
        }
      ]
    },
    {
      "cell_type": "code",
      "metadata": {
        "id": "F52VUy_soaxL"
      },
      "source": [
        "data_1.to_csv('books_dataset.csv')"
      ],
      "execution_count": null,
      "outputs": []
    },
    {
      "cell_type": "markdown",
      "metadata": {
        "id": "nZ7u7JyhoaxQ"
      },
      "source": [
        "## KNN algorithm"
      ]
    },
    {
      "cell_type": "code",
      "metadata": {
        "id": "62JWPZz1oaxR"
      },
      "source": [
        "def recommend_books(book_id):\n",
        "    \n",
        "    author = ''\n",
        "    year = 0\n",
        "    title = ''\n",
        "    lang = ''\n",
        "    rat = 0\n",
        "    \n",
        "    dist = [0.0 for i in range(9979)]\n",
        "    books = [0.0 for i in range(9979)]\n",
        "    \n",
        "    for i in range(9979):\n",
        "        if data_1.iloc[i]['book_id'] == book_id:\n",
        "            author = data_1.iloc[i]['authors'].split(',')[0]\n",
        "            year = data_1.iloc[i]['original_publication_year']\n",
        "            title = data_1.iloc[i]['title']\n",
        "            lang = data_1.iloc[i]['language_code']\n",
        "            rat = data_1.iloc[i]['average_rating']\n",
        "    \n",
        "            break\n",
        "        \n",
        "    \n",
        "   \n",
        "    for i in range(9979):\n",
        "        if author in data_1.iloc[i]['authors'].split(','):\n",
        "            dist[i] += 0\n",
        "        else:\n",
        "            dist[i] += np.sqrt(1)\n",
        "            \n",
        "        books[i] = data_1.iloc[i]['book_id']\n",
        "            \n",
        "    for i in range(9979):    \n",
        "        dist[i] += np.sqrt(abs(year - data_1.iloc[i]['original_publication_year']) / 40)\n",
        "            \n",
        "    for i in range(9979):\n",
        "        if lang in data_1.iloc[i]['language_code'].split(','):\n",
        "            dist[i] += 0\n",
        "        else:\n",
        "            dist[i] += np.sqrt(5)\n",
        "            \n",
        "    for i in range(9979):\n",
        "        dist[i] += np.sqrt((rat - data_1.iloc[i]['average_rating']))\n",
        "        \n",
        "    \n",
        "    pred = top_books(dist, books)\n",
        "    \n",
        "    return pred"
      ],
      "execution_count": null,
      "outputs": []
    },
    {
      "cell_type": "code",
      "metadata": {
        "id": "90d6ZgoIoaxU"
      },
      "source": [
        "def top_books(dist, books):\n",
        "    \n",
        "    predicted = []\n",
        "    \n",
        "    for i in range(15):\n",
        "        min_dist = 1000\n",
        "        min_id = -1\n",
        "        temp = True\n",
        "        \n",
        "        for i in range(len(dist)):\n",
        "            if books[i] not in predicted:\n",
        "                if temp:\n",
        "                    temp = False\n",
        "                    min_dist = dist[i]\n",
        "                    min_id = books[i]\n",
        "                    \n",
        "                else:\n",
        "                    if min_dist > dist[i]:\n",
        "                        min_dist = dist[i]\n",
        "                        min_id = books[i]\n",
        "                        \n",
        "        predicted.append(min_id)\n",
        "        \n",
        "    return predicted"
      ],
      "execution_count": null,
      "outputs": []
    },
    {
      "cell_type": "markdown",
      "metadata": {
        "id": "7t8H-b7yoaxa"
      },
      "source": [
        "### Predictions"
      ]
    },
    {
      "cell_type": "code",
      "metadata": {
        "id": "7AEcINzBoaxb"
      },
      "source": [
        "output_id = recommend_books(2)\n",
        "\n",
        "output = pd.DataFrame(columns = data.columns)\n",
        "\n",
        "for i in output_id:\n",
        "    for j in range(10000):\n",
        "        if data.iloc[j]['book_id'] == i:\n",
        "            output = output.append(data.iloc[j])\n",
        "            break"
      ],
      "execution_count": null,
      "outputs": []
    },
    {
      "cell_type": "code",
      "metadata": {
        "id": "Cr4P0m-3oaxf"
      },
      "source": [
        "import requests\n",
        "for i in range(len(output)):\n",
        "    img_data = requests.get(output.iloc[i]['image_url']).content\n",
        "    \n",
        "\n",
        "    with open('pic_'+str(i)+'.jpg', 'wb') as f:\n",
        "        f.write(img_data)"
      ],
      "execution_count": null,
      "outputs": []
    },
    {
      "cell_type": "code",
      "metadata": {
        "id": "bcnkJswyoaxm"
      },
      "source": [
        ""
      ],
      "execution_count": null,
      "outputs": []
    }
  ]
}